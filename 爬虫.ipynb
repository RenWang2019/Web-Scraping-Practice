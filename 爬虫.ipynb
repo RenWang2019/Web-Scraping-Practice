{
 "cells": [
  {
   "cell_type": "markdown",
   "metadata": {},
   "source": [
    "# 爬虫 Web scrapper"
   ]
  },
  {
   "cell_type": "markdown",
   "metadata": {},
   "source": [
    "1. BeautifulSoup4\n",
    "2. Requests\n",
    "3. selenium"
   ]
  },
  {
   "cell_type": "markdown",
   "metadata": {},
   "source": [
    "##  1.亚马逊商品信息爬虫 Web-scrapping commodity information demo"
   ]
  },
  {
   "cell_type": "code",
   "execution_count": 26,
   "metadata": {},
   "outputs": [],
   "source": [
    "from bs4 import BeautifulSoup as bs\n",
    "from urllib.request import urlopen as uReq\n",
    "import csv\n",
    "from selenium import webdriver\n",
    "import time"
   ]
  },
  {
   "cell_type": "markdown",
   "metadata": {},
   "source": [
    "### 打开浏览器 Start the web driver"
   ]
  },
  {
   "cell_type": "code",
   "execution_count": null,
   "metadata": {},
   "outputs": [],
   "source": [
    "#driver = webdriver.Chrome()"
   ]
  },
  {
   "cell_type": "code",
   "execution_count": null,
   "metadata": {},
   "outputs": [],
   "source": [
    "#examples\n",
    "#url = \"https://www.amazon.cn/\"\n",
    "#driver.get(url)"
   ]
  },
  {
   "cell_type": "markdown",
   "metadata": {},
   "source": [
    "### 生成需要的搜索结果 Generate search URL"
   ]
  },
  {
   "cell_type": "code",
   "execution_count": null,
   "metadata": {},
   "outputs": [],
   "source": [
    "#def get_url(search_term):\n",
    "#    \"Generate a url from search terms\"\n",
    "#    template = \"https://www.amazon.cn/s?k={}&__mk_zh_CN&ref=nb_sb_noss_2\"\n",
    "#    search_term = search_term.replace(' ', '+')\n",
    "#    return template.format(search_term)\n"
   ]
  },
  {
   "cell_type": "code",
   "execution_count": null,
   "metadata": {},
   "outputs": [],
   "source": [
    "#examples\n",
    "#url = get_url('switch 日版')\n",
    "#driver.get(url)"
   ]
  },
  {
   "cell_type": "code",
   "execution_count": null,
   "metadata": {},
   "outputs": [],
   "source": [
    "#soup = BeautifulSoup(driver.page_source,'html.parser')"
   ]
  },
  {
   "cell_type": "markdown",
   "metadata": {},
   "source": [
    "### 在一个搜索结果页面上爬虫 Prototype web scrapping in one page"
   ]
  },
  {
   "cell_type": "code",
   "execution_count": null,
   "metadata": {},
   "outputs": [],
   "source": [
    "#item_result = soup.find_all('div',{'data-component-type':'s-search-result'})\n",
    "#item = item_result[0]\n",
    "#name = item.h2.a.span.text\n",
    "#price_result = item.find('span','a-price')\n",
    "#price = price_result.find('span','a-offscreen').text\n",
    "#rating = item.i.text\n",
    "#time = item.find('span',{'class':'a-size-base a-color-secondary a-text-normal'}).text\n",
    "#comment_result = item.find('div',{'class':'a-section a-spacing-none a-spacing-top-micro'})\n",
    "#comment = comment_result.find('span',{'class':'a-size-base'}).text\n",
    "#shipment_result = item.find('div','a-row a-size-base a-color-secondary s-align-children-center')\n",
    "#shipment = shipment_result.find('span',{'dir':'auto'}).text"
   ]
  },
  {
   "cell_type": "code",
   "execution_count": null,
   "metadata": {},
   "outputs": [],
   "source": [
    "#def scrapping(item):\n",
    "#    \n",
    "#    #name, price and starting time\n",
    "#    name = item.h2.a.span.text\n",
    "#    try:\n",
    "#        time = item.find('span',{'class':'a-size-base a-color-secondary a-text-normal'}).text\n",
    "#    except AttributeError:\n",
    "#        time = ''\n",
    "#    try:\n",
    "#        price_result = item.find('span','a-price')\n",
    "#        price = price_result.find('span','a-offscreen').text\n",
    "#    except AttributeError:\n",
    "#        \n",
    "#        return None\n",
    "#\n",
    "#    #rating and comment ranking\n",
    "#    try:\n",
    "#        rating = item.i.text\n",
    "#        \n",
    "#    except AttributeError:\n",
    "#        rating = ''\n",
    "#    try:\n",
    "#        comment_result = item.find('div',{'class':'a-section a-spacing-none a-spacing-top-micro'})\n",
    "#        comment = comment_result.find('span',{'class':'a-size-base'}).text\n",
    "#    except AttributeError:\n",
    "#        comment = ''\n",
    "#    #shipment requirement\n",
    "#    try:\n",
    "#        shipment_result = item.find('div','a-row a-size-base a-color-secondary s-align-children-center')\n",
    "#        shipment = shipment_result.find('span',{'dir':'auto'}).text\n",
    "#    except AttributeError:\n",
    "#        shipment = ''\n",
    "#    #url address\n",
    "#    url = 'https://www.amazon.cn'+item.h2.a.get('href')\n",
    "#    \n",
    "#    result = (name, time, price, rating, comment, shipment, url)\n",
    "#    \n",
    "#    return result "
   ]
  },
  {
   "cell_type": "code",
   "execution_count": null,
   "metadata": {},
   "outputs": [],
   "source": [
    "#item_result = soup.find_all('div',{'data-component-type':'s-search-result'})\n",
    "#data = []\n",
    "#for item in item_result:\n",
    "#    record = scrapping(item)\n",
    "#    if record:\n",
    "#        data.append(record)"
   ]
  },
  {
   "cell_type": "markdown",
   "metadata": {},
   "source": [
    "### 跳转到下一页 Getting the next page"
   ]
  },
  {
   "cell_type": "code",
   "execution_count": null,
   "metadata": {},
   "outputs": [],
   "source": [
    "#def get_url(search_term):\n",
    "#    \"Generate a url from search terms\"\n",
    "#    template = \"https://www.amazon.cn/s?k={}&__mk_zh_CN&ref=nb_sb_noss_2\"\n",
    "#    search_term = search_term.replace(' ', '+')\n",
    "#    url = template.format(search_term)\n",
    "#    url += '&page{}'\n",
    "#    return url"
   ]
  },
  {
   "cell_type": "markdown",
   "metadata": {},
   "source": [
    "### 最终的demo"
   ]
  },
  {
   "cell_type": "code",
   "execution_count": null,
   "metadata": {},
   "outputs": [],
   "source": [
    "\n",
    "def get_url(search_term):\n",
    "    \"Generate a url from search terms\"\n",
    "    template = \"https://www.amazon.cn/s?k={}&__mk_zh_CN&ref=nb_sb_noss_2\"\n",
    "    search_term = search_term.replace(' ', '+')\n",
    "    url = template.format(search_term)\n",
    "    url += '&page={}'\n",
    "    return url\n",
    "\n",
    "def scrapping(item):\n",
    "    \n",
    "    #name, price and starting time\n",
    "    name = item.h2.a.span.text\n",
    "    try:\n",
    "        time = item.find('span',{'class':'a-size-base a-color-secondary a-text-normal'}).text\n",
    "    except AttributeError:\n",
    "        time = ''\n",
    "    try:\n",
    "        price_result = item.find('span','a-price')\n",
    "        price = price_result.find('span','a-offscreen').text\n",
    "    except AttributeError:\n",
    "        \n",
    "        return None\n",
    "\n",
    "    #rating and comment ranking\n",
    "    try:\n",
    "        rating = item.i.text\n",
    "        \n",
    "    except AttributeError:\n",
    "        rating = ''\n",
    "    try:\n",
    "        comment_result = item.find('div',{'class':'a-section a-spacing-none a-spacing-top-micro'})\n",
    "        comment = comment_result.find('span',{'class':'a-size-base'}).text\n",
    "    except AttributeError:\n",
    "        comment = ''\n",
    "    #shipment requirement\n",
    "    try:\n",
    "        shipment_result = item.find('div','a-row a-size-base a-color-secondary s-align-children-center')\n",
    "        shipment = shipment_result.find('span',{'dir':'auto'}).text\n",
    "    except AttributeError:\n",
    "        shipment = ''\n",
    "    #url address\n",
    "    url = 'https://www.amazon.cn'+item.h2.a.get('href')\n",
    "    \n",
    "    result = (name, time, price, rating, comment, shipment, url)\n",
    "    \n",
    "    return result \n",
    "\n",
    "def main(search_term):\n",
    "    \"\"\"Run the main routine\"\"\"\n",
    "    #Start the web driver\n",
    "    driver = webdriver.Chrome()\n",
    "    data = []\n",
    "    url = get_url(search_term)\n",
    "    \n",
    "    for page in range(1,21):\n",
    "        driver.get(url.format(page))\n",
    "        soup = bs(driver.page_source,'html.parser')\n",
    "        item_result = soup.find_all('div',{'data-component-type':'s-search-result'})\n",
    "        \n",
    "        for item in item_result:\n",
    "            record = scrapping(item)\n",
    "            if record:\n",
    "                data.append(record)\n",
    "    driver.close()\n",
    "    \n",
    "    #write the result in csv files\n",
    "    filename = str(search_term)+str(time.strftime(\"%Y%m%d-%H%M%S\"))+'.csv'\n",
    "    with open(filename,'w',newline='',encoding = 'utf-8-sig') as f:\n",
    "        writer = csv.writer(f)\n",
    "        writer.writerow(['name', 'time', 'price', 'rating', 'comment', 'shipment', 'url'])\n",
    "        writer.writerows(data)"
   ]
  },
  {
   "cell_type": "code",
   "execution_count": null,
   "metadata": {},
   "outputs": [],
   "source": [
    "main('switch')"
   ]
  },
  {
   "cell_type": "markdown",
   "metadata": {},
   "source": [
    "## 2. 从东方财富网上爬取一个月内的行研报告 Web-scrap PDF document demo"
   ]
  },
  {
   "cell_type": "code",
   "execution_count": 7,
   "metadata": {},
   "outputs": [],
   "source": [
    "from selenium.webdriver.common.keys import Keys\n",
    "from selenium.webdriver.common.by import By\n",
    "from selenium.webdriver.support.ui import WebDriverWait\n",
    "from selenium.webdriver.support import expected_conditions as EC\n",
    "from selenium.webdriver.support.ui import Select\n",
    "from selenium.webdriver import ActionChains\n",
    "\n",
    "import requests"
   ]
  },
  {
   "cell_type": "markdown",
   "metadata": {},
   "source": [
    "## 挖掘第一份报告 Web scraping the first report in first page"
   ]
  },
  {
   "cell_type": "code",
   "execution_count": 44,
   "metadata": {},
   "outputs": [
    {
     "name": "stdout",
     "output_type": "stream",
     "text": [
      "https://pdf.dfcfw.com/pdf/H3_AP202011241432496485_1.pdf?1606249977000.pdf\n",
      "https://pdf.dfcfw.com/pdf/H3_AP202011241432496485_1.pdf?1606249977000.pdf\n"
     ]
    }
   ],
   "source": [
    "driver = webdriver.Chrome()\n",
    "driver.get('http://data.eastmoney.com/report/hyyb.html')\n",
    "button = Select(driver.find_element_by_id('change_time'))\n",
    "button.select_by_visible_text('一月内')\n",
    "x = driver.find_element_by_xpath('//table[@class=\"table-model\"]/tbody/tr[1]/td[5]/a').get_attribute(\"href\")\n",
    "driver.get(x)\n",
    "filetype = '.pdf'\n",
    "def get_soup(url):\n",
    "    return bs(requests.get(url).text,'html.parser')\n",
    "for link in get_soup(x).find_all('a'):\n",
    "    filelink = link.get('href')\n",
    "    filename = get_soup(x).find('h1').text\n",
    "    if filetype in filelink:\n",
    "        with open(filename,'wb') as file:\n",
    "            response = requests.get(filelink)\n",
    "            file.write(response.content)"
   ]
  },
  {
   "cell_type": "markdown",
   "metadata": {},
   "source": [
    "## 挖掘第一页里的报告 Web scraping reports in first page"
   ]
  },
  {
   "cell_type": "code",
   "execution_count": 88,
   "metadata": {},
   "outputs": [],
   "source": [
    "driver = webdriver.Chrome()\n",
    "driver.get('http://data.eastmoney.com/report/hyyb.html')\n",
    "button = Select(driver.find_element_by_id('change_time'))\n",
    "button.select_by_visible_text('一月内')\n"
   ]
  },
  {
   "cell_type": "code",
   "execution_count": null,
   "metadata": {},
   "outputs": [],
   "source": [
    "j=[]\n",
    "for i in range(1,maxiter+1):\n",
    "    x = driver.find_element_by_xpath('//table[@class=\"table-model\"]/tbody/tr['+str(i)+']/td[5]/a').get_attribute(\"href\")\n",
    "    j.append(x)\n",
    "driver.close()\n",
    "for n in j:\n",
    "    for link in get_soup(n).find_all('a'):\n",
    "        filelink = link.get('href')\n",
    "        filename = get_soup(n).find('h1').text\n",
    "        if filetype in filelink:\n",
    "            with open(filename,'wb') as file:\n",
    "                response = requests.get(filelink)\n",
    "                file.write(response.content)\n",
    "        else:\n",
    "            pass"
   ]
  },
  {
   "cell_type": "markdown",
   "metadata": {},
   "source": [
    "## 爬取所有页面的的报告 Web scraping every page"
   ]
  },
  {
   "cell_type": "code",
   "execution_count": null,
   "metadata": {},
   "outputs": [],
   "source": [
    "driver = webdriver.Chrome()\n",
    "driver.get('http://data.eastmoney.com/report/hyyb.html')\n",
    "button = Select(driver.find_element_by_id('change_time'))\n",
    "button.select_by_visible_text('一月内')"
   ]
  },
  {
   "cell_type": "code",
   "execution_count": 89,
   "metadata": {},
   "outputs": [],
   "source": [
    "'''跳转页面 Page Navigation'''\n",
    "j=[]\n",
    "try:\n",
    "    while True:\n",
    "        rows = driver.find_elements_by_xpath('//table[@class=\"table-model\"]/tbody/tr')\n",
    "        maxiter = len(rows)\n",
    "        for i in range(1,maxiter+1):\n",
    "            x = driver.find_element_by_xpath('//table[@class=\"table-model\"]/tbody/tr['+str(i)+']/td[5]/a').get_attribute(\"href\")\n",
    "            j.append(x)\n",
    "        button = driver.find_element_by_link_text('下一页')\n",
    "        button.click()\n",
    "except:\n",
    "    pass\n",
    "drievr.close()"
   ]
  },
  {
   "cell_type": "code",
   "execution_count": null,
   "metadata": {},
   "outputs": [],
   "source": [
    "for n in j:\n",
    "    for link in get_soup(n).find_all('a'):\n",
    "        filelink = link.get('href')\n",
    "        filename = get_soup(n).find('h1').text\n",
    "        filename = filename.replace('/','_')\n",
    "        if filetype in filelink:\n",
    "            with open(filename,'wb') as file:\n",
    "                response = requests.get(filelink)\n",
    "                file.write(response.content)\n",
    "        else:\n",
    "            pass"
   ]
  },
  {
   "cell_type": "markdown",
   "metadata": {},
   "source": [
    "# 3. 爬取东方财富网上的股票数据 Web scraping stock market data"
   ]
  },
  {
   "cell_type": "code",
   "execution_count": 112,
   "metadata": {},
   "outputs": [],
   "source": [
    "from selenium import webdriver  #导入模块\n",
    "import time\n",
    "import csv  #存储数据\n",
    "from lxml import etree\n",
    "\n",
    "option = webdriver.ChromeOptions()   #网址获取\n",
    "option.add_argument('headless')  #设置浏览器静默\n",
    "driver = webdriver.Chrome(options=option)\n",
    "driver.get('http://data.eastmoney.com/zjlx/zs399006.html')\n",
    "time.sleep(2)\n",
    "\n",
    "source = driver.page_source\n",
    "mytree = etree.HTML(source)\n",
    "tables = mytree.xpath(\"//table[@class='tab1']\")#定位表格，返回列表\n",
    "for i in range(len(tables)):#循环表格\n",
    "    onetable = []\n",
    "    trs = tables[i].xpath('.//tr')#取出所有tr标签\n",
    "    for tr in trs:\n",
    "        ui = []\n",
    "        for td in tr:\n",
    "            texts = td.xpath(\".//text()\")#取出所有td标签下的文本\n",
    "            mm = []\n",
    "            for text in texts:\n",
    "                mm.append(text.strip(\"\"))\n",
    "            ui.append(','.join(mm))\n",
    "        onetable.append(ui)#整张表格\n",
    "\n",
    "with open('stock.csv', 'a',newline='',encoding = 'utf-8-sig') as file:\n",
    "    csv_file = csv.writer(file)\n",
    "    for i in onetable:\n",
    "        csv_file.writerow(i)\n",
    "\n",
    "time.sleep(2)\n",
    "driver.close()\n"
   ]
  },
  {
   "cell_type": "code",
   "execution_count": null,
   "metadata": {},
   "outputs": [],
   "source": []
  }
 ],
 "metadata": {
  "kernelspec": {
   "display_name": "Python 3",
   "language": "python",
   "name": "python3"
  },
  "language_info": {
   "codemirror_mode": {
    "name": "ipython",
    "version": 3
   },
   "file_extension": ".py",
   "mimetype": "text/x-python",
   "name": "python",
   "nbconvert_exporter": "python",
   "pygments_lexer": "ipython3",
   "version": "3.8.3"
  }
 },
 "nbformat": 4,
 "nbformat_minor": 4
}
